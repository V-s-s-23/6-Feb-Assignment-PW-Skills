{
 "cells": [
  {
   "cell_type": "markdown",
   "id": "004745f9",
   "metadata": {},
   "source": [
    "# Q1. Create a function which will take a list as an argument and return the product of all the numbers after creating a flat list. Use the below-given list as an argument for your function.\n",
    "## list1 = [1,2,3,4, [44,55,66, True], False, (34,56,78,89,34), {1,2,3,3,2,1}, {1:34, \"key2\": [55, 67, 78, 89], 4: (45,22, 61, 34)}, [56, 'data science'], 'Machine Learning']\n",
    "## Note: you must extract numeric keys and values of the dictionary also."
   ]
  },
  {
   "cell_type": "code",
   "execution_count": 1,
   "id": "28919804",
   "metadata": {},
   "outputs": [
    {
     "name": "stdout",
     "output_type": "stream",
     "text": [
      "689118639831180913138973540352000\n"
     ]
    }
   ],
   "source": [
    "def product_of_all_numbers(lst):\n",
    "    flat_list = []\n",
    "    for item in lst:\n",
    "        if type(item) in (int, float):\n",
    "            flat_list.append(item)\n",
    "        elif type(item) == list:\n",
    "            flat_list.extend(product_of_all_numbers(item))\n",
    "        elif type(item) == tuple:\n",
    "            for elem in item:\n",
    "                if type(elem) in (int, float):\n",
    "                    flat_list.append(elem)\n",
    "        elif type(item) == dict:\n",
    "            for key, value in item.items():\n",
    "                if type(key) in (int, float):\n",
    "                    flat_list.append(key)\n",
    "                if type(value) in (int, float):\n",
    "                    flat_list.append(value)\n",
    "                if type(value) in (list, tuple):\n",
    "                    flat_list.extend(product_of_all_numbers(value))\n",
    "    return flat_list\n",
    "\n",
    "list1 = [1, 2, 3, 4, [44, 55, 66, True], False, (34, 56, 78, 89, 34), {1, 2, 3, 3, 2, 1}, {1: 34, \"key2\": [55, 67, 78, 89], 4: (45, 22, 61, 34)}, [56, 'data science'], 'Machine Learning']\n",
    "flat_list = product_of_all_numbers(list1)\n",
    "product = 1\n",
    "for item in flat_list:\n",
    "    product *= item\n",
    "\n",
    "print(product)"
   ]
  },
  {
   "cell_type": "code",
   "execution_count": null,
   "id": "3b1cc9c7",
   "metadata": {},
   "outputs": [],
   "source": []
  },
  {
   "cell_type": "markdown",
   "id": "ce1b4f75",
   "metadata": {},
   "source": [
    "# Q2. Q2. Write a python program for encrypting a message sent to you by your friend. The logic of encryption should be such that, for a the output should be z. For b, the output should be y. For c, the output should be x respectively. Also, the whitespace should be replaced with a dollar sign. Keep the punctuation marks unchanged.\n",
    "## Input Sentence: I want to become a Data Scientist.\n",
    "## Encrypt the above input sentence using the program you just created.\n",
    "## Note: Convert the given input sentence into lowercase before encrypting. The final output should be lowercase."
   ]
  },
  {
   "cell_type": "code",
   "execution_count": 2,
   "id": "b1588d16",
   "metadata": {},
   "outputs": [
    {
     "name": "stdout",
     "output_type": "stream",
     "text": [
      "r$dzmg$gl$yvxlnv$z$wzgz$hxrvmgrhg.\n"
     ]
    }
   ],
   "source": [
    "def encrypt_message(message):\n",
    "    alphabet = 'abcdefghijklmnopqrstuvwxyz'\n",
    "    encryption_map = {char: alphabet[25-idx] for idx, char in enumerate(alphabet)}\n",
    "    encrypted_message = ''\n",
    "    for char in message.lower():\n",
    "        if char.isalpha():\n",
    "            encrypted_message += encryption_map[char]\n",
    "        elif char.isspace():\n",
    "            encrypted_message += '$'\n",
    "        else:\n",
    "            encrypted_message += char\n",
    "    return encrypted_message\n",
    "\n",
    "message = \"I want to become a Data Scientist.\"\n",
    "encrypted_message = encrypt_message(message)\n",
    "print(encrypted_message)\n"
   ]
  },
  {
   "cell_type": "markdown",
   "id": "62ed1ba8",
   "metadata": {},
   "source": [
    "# Explanation of above code\n",
    "## The function encrypt_message takes a string message as input and returns an encrypted version of the message. The function first defines a dictionary encryption_map which maps each letter in the alphabet to its corresponding encrypted letter. The function then loops through each character in the input message, and appends the corresponding encrypted character to the encrypted_message string. If the character is a whitespace, it is replaced with a dollar sign. Punctuation marks are left unchanged. Finally, the encrypted message is returned."
   ]
  },
  {
   "cell_type": "code",
   "execution_count": null,
   "id": "9f2b9c6f",
   "metadata": {},
   "outputs": [],
   "source": []
  }
 ],
 "metadata": {
  "kernelspec": {
   "display_name": "Python 3 (ipykernel)",
   "language": "python",
   "name": "python3"
  },
  "language_info": {
   "codemirror_mode": {
    "name": "ipython",
    "version": 3
   },
   "file_extension": ".py",
   "mimetype": "text/x-python",
   "name": "python",
   "nbconvert_exporter": "python",
   "pygments_lexer": "ipython3",
   "version": "3.9.12"
  }
 },
 "nbformat": 4,
 "nbformat_minor": 5
}
